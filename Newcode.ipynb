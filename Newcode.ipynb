{
 "cells": [
  {
   "cell_type": "code",
   "execution_count": null,
   "metadata": {},
   "outputs": [],
   "source": [
    "import numpy as np\n",
    "import matplotlib.pyplot as plt\n",
    "\n",
    "# Min-Max normalization function\n",
    "def normalize(data):\n",
    "    return (data - np.min(data)) / (np.max(data) - np.min(data))\n",
    "\n",
    "# Initialize input data and true labels\n",
    "X1 = np.array([1, 2, 3])\n",
    "X2 = np.array([3, 4, 5])\n",
    "# Generate Y_true using the specified function\n",
    "def generate_y_true(X1, X2):\n",
    "    return 0.25 * X1**2 + 0.2 * X1 * X2 + 5\n",
    "Y_true = generate_y_true(X1, X2)\n",
    "## Plot model of Y_true Generate data points for the 3D plot\n",
    "X1_plot = np.linspace(np.min(X1), np.max(X1), 100)\n",
    "X2_plot = np.linspace(np.min(X2), np.max(X2), 100)\n",
    "X1_plot, X2_plot = np.meshgrid(X1_plot, X2_plot)\n",
    "Y_true_plot = generate_y_true(X1_plot, X2_plot)\n",
    "\n",
    "# Plotting Y_true as a function of X1 and X2\n",
    "fig = plt.figure(figsize=(8, 6))\n",
    "ax = fig.add_subplot(111, projection='3d')\n",
    "ax.plot_surface(X1_plot, X2_plot, Y_true_plot, cmap='viridis', alpha=0.7)\n",
    "ax.set_xlabel('X1')\n",
    "ax.set_ylabel('X2')\n",
    "ax.set_zlabel('Y_true')\n",
    "ax.set_title('Y_true as a Function of X1 and X2')\n",
    "\n",
    "plt.show()\n",
    "\n",
    "\n",
    "\n",
    "# Normalize inputs and outputs\n",
    "X1_normalized = normalize(X1)\n",
    "X2_normalized = normalize(X2)\n",
    "Y_true_normalized = normalize(Y_true)\n",
    "\n",
    "# Initialize weights and biases\n",
    "np.random.seed(42)\n",
    "W11, W21, W12, W22 = 2 * np.random.rand(4) - 1\n",
    "W31, W41, W32, W42 = 2 * np.random.rand(4) - 1\n",
    "w51, w52 = 2 * np.random.rand(2) - 1\n",
    "b1, b2, b3, b4 = 2 * np.random.rand(4) - 1\n",
    "\n",
    "\n",
    "np.random.seed(42)\n",
    "W11, W21, W12, W22 = 2 * np.random.rand(4) - 1 \n",
    "W31, W41, W32, W42 = 2 * np.random.rand(4) - 1\n",
    "W51, W52 = 2 * np.random.rand(2) - 1\n",
    "b1, b2, b3, b4 = 2 * np.random.rand(4) - 1\n",
    "\n",
    "\n",
    "\n",
    "\n",
    "\n",
    "\n",
    "# Hyperparameters\n",
    "learning_rate = 0.01\n",
    "epochs = 1\n",
    "\n",
    "# Lists to store weights for visualization\n",
    "weights = [W11, W21, W12, W22, W31, W41, W32, W42, w51, w52]\n",
    "biases = [b1, b2, b3, b4]\n",
    "\n",
    "# Lists to store weight and bias histories for visualization\n",
    "weights_history = [[] for _ in range(len(weights))]\n",
    "biases_history = [[] for _ in range(len(biases))]\n",
    "\n",
    "# Sigmoid activation function\n",
    "def sigmoid(x):\n",
    "    return 1 / (1 + np.exp(-x))\n",
    "\n",
    "# Derivative of the sigmoid function\n",
    "def sigmoid_derivative(x):\n",
    "    return x * (1 - x)\n",
    "\n",
    "# Training the neural network using backpropagation\n",
    "for epoch in range(epochs):\n",
    "    # Forward pass\n",
    "    A11 = sigmoid(X1_normalized * W11 + X2_normalized * W21 + b1)\n",
    "    A12 = sigmoid(X1_normalized * W12 + X2_normalized * W22 + b2)\n",
    "    A21 = sigmoid(A11 * W31 + A12 * W41 + b3)\n",
    "    A22 = sigmoid(A11 * W32 + A12 * W42 + b4)\n",
    "    Y_pred = A21 * w51 + A22 * w52\n",
    "\n",
    "    # Calculate the loss\n",
    "    loss = np.mean((Y_pred - Y_true_normalized)**2)\n",
    "\n",
    "    # Backward pass\n",
    "    d_loss = 2 * (Y_pred - Y_true_normalized) / len(Y_true_normalized)\n",
    "    d_w51 = A21 * d_loss\n",
    "    d_w52 = A22 * d_loss\n",
    "\n",
    "    d_A21 = w51 * d_loss\n",
    "    d_A22 = w52 * d_loss\n",
    "\n",
    "    d_A11 = W31 * sigmoid_derivative(A11) * d_A21\n",
    "    d_A12 = W41 * sigmoid_derivative(A12) * d_A21\n",
    "\n",
    "    d_W11 = X1_normalized * sigmoid_derivative(A11) * d_A11\n",
    "    d_W21 = X2_normalized * sigmoid_derivative(A11) * d_A11\n",
    "    d_b1 = sigmoid_derivative(A11) * d_A11\n",
    "\n",
    "    d_W12 = X1_normalized * sigmoid_derivative(A12) * d_A12\n",
    "    d_W22 = X2_normalized * sigmoid_derivative(A12) * d_A12\n",
    "    d_b2 = sigmoid_derivative(A12) * d_A12\n",
    "\n",
    "    d_W31 = A11 * sigmoid_derivative(A21) * d_A21\n",
    "    d_W41 = A12 * sigmoid_derivative(A21) * d_A21\n",
    "    d_b3 = sigmoid_derivative(A21) * d_A21\n",
    "\n",
    "    d_W32 = A11 * sigmoid_derivative(A22) * d_A22\n",
    "    d_W42 = A12 * sigmoid_derivative(A22) * d_A22\n",
    "    d_b4 = sigmoid_derivative(A22) * d_A22\n",
    "\n",
    "    # Update weights and biases\n",
    "    w51 -= learning_rate * np.mean(d_w51)\n",
    "    w52 -= learning_rate * np.mean(d_w52)\n",
    "\n",
    "    W11 -= learning_rate * np.mean(d_W11)\n",
    "    W21 -= learning_rate * np.mean(d_W21)\n",
    "    b1 -= learning_rate * np.mean(d_b1)\n",
    "\n",
    "    W12 -= learning_rate * np.mean(d_W12)\n",
    "    W22 -= learning_rate * np.mean(d_W22)\n",
    "    b2 -= learning_rate * np.mean(d_b2)\n",
    "\n",
    "    W31 -= learning_rate * np.mean(d_W31)\n",
    "    W41 -= learning_rate * np.mean(d_W41)\n",
    "    b3 -= learning_rate * np.mean(d_b3)\n",
    "\n",
    "    W32 -= learning_rate * np.mean(d_W32)\n",
    "    W42 -= learning_rate * np.mean(d_W42)\n",
    "    b4 -= learning_rate * np.mean(d_b4)\n",
    "\n",
    "    # Update the weights list\n",
    "    weights = [W11, W21, W12, W22, W31, W41, W32, W42, w51, w52]\n",
    "\n",
    "    # Append weights and biases for visualization\n",
    "    for i, weight in enumerate(weights):\n",
    "        weights_history[i].append(weight)\n",
    "\n",
    "    for i, bias in enumerate(biases):\n",
    "        biases_history[i].append(bias)\n",
    "\n",
    "# Plotting the weights over iterations\n",
    "fig, axes = plt.subplots(len(weights_history) + len(biases_history), 1, figsize=(10, 20))\n",
    "\n",
    "for i, weight_history in enumerate(weights_history):\n",
    "    axes[i].plot(weight_history)\n",
    "    axes[i].set_title(f'Weight {i+1}')\n",
    "\n",
    "for i, bias_history in enumerate(biases_history):\n",
    "    axes[len(weights_history) + i].plot(bias_history)\n",
    "    axes[len(weights_history) + i].set_title(f'Bias {i+1}')\n",
    "\n",
    "plt.tight_layout()\n",
    "plt.show()\n"
   ]
  },
  {
   "cell_type": "code",
   "execution_count": 9,
   "metadata": {},
   "outputs": [
    {
     "data": {
      "text/plain": [
       "array([ 0.18521405, -0.08408282, -0.49059836])"
      ]
     },
     "execution_count": 9,
     "metadata": {},
     "output_type": "execute_result"
    }
   ],
   "source": [
    "d_loss"
   ]
  },
  {
   "cell_type": "code",
   "execution_count": 7,
   "metadata": {},
   "outputs": [
    {
     "data": {
      "text/plain": [
       "array([ 0.04582936, -0.01985686, -0.11048428])"
      ]
     },
     "execution_count": 7,
     "metadata": {},
     "output_type": "execute_result"
    }
   ],
   "source": [
    "d_w51/2"
   ]
  },
  {
   "cell_type": "code",
   "execution_count": 8,
   "metadata": {},
   "outputs": [
    {
     "data": {
      "text/plain": [
       "array([0.49487992, 0.4723167 , 0.45040622])"
      ]
     },
     "execution_count": 8,
     "metadata": {},
     "output_type": "execute_result"
    }
   ],
   "source": [
    "A21"
   ]
  },
  {
   "cell_type": "code",
   "execution_count": 10,
   "metadata": {},
   "outputs": [
    {
     "data": {
      "text/plain": [
       "array([0.27782107, 0.27160304, 0.26410246])"
      ]
     },
     "execution_count": 10,
     "metadata": {},
     "output_type": "execute_result"
    }
   ],
   "source": [
    "Y_pred"
   ]
  },
  {
   "cell_type": "code",
   "execution_count": 13,
   "metadata": {},
   "outputs": [
    {
     "data": {
      "text/plain": [
       "array([-0.95884313, -0.63360326, -0.3083634 ])"
      ]
     },
     "execution_count": 13,
     "metadata": {},
     "output_type": "execute_result"
    }
   ],
   "source": [
    "X1_normalized * W11 + X2_normalized * W21 + b1"
   ]
  },
  {
   "cell_type": "code",
   "execution_count": 14,
   "metadata": {},
   "outputs": [
    {
     "data": {
      "text/plain": [
       "array([0. , 0.5, 1. ])"
      ]
     },
     "execution_count": 14,
     "metadata": {},
     "output_type": "execute_result"
    }
   ],
   "source": [
    "X1_normalized"
   ]
  },
  {
   "cell_type": "code",
   "execution_count": 15,
   "metadata": {},
   "outputs": [
    {
     "data": {
      "text/plain": [
       "array([0. , 0.5, 1. ])"
      ]
     },
     "execution_count": 15,
     "metadata": {},
     "output_type": "execute_result"
    }
   ],
   "source": [
    "X2_normalized"
   ]
  },
  {
   "cell_type": "code",
   "execution_count": 16,
   "metadata": {},
   "outputs": [
    {
     "data": {
      "text/plain": [
       "0.9014140502679847"
      ]
     },
     "execution_count": 16,
     "metadata": {},
     "output_type": "execute_result"
    }
   ],
   "source": [
    "W21"
   ]
  },
  {
   "cell_type": "code",
   "execution_count": 17,
   "metadata": {},
   "outputs": [
    {
     "data": {
      "text/plain": [
       "-0.2509343248571227"
      ]
     },
     "execution_count": 17,
     "metadata": {},
     "output_type": "execute_result"
    }
   ],
   "source": [
    "W11"
   ]
  },
  {
   "cell_type": "code",
   "execution_count": 18,
   "metadata": {},
   "outputs": [],
   "source": [
    "# Normalize inputs and outputs\n",
    "X1_normalized = normalize(X1)\n",
    "X2_normalized = normalize(X2)\n",
    "Y_true_normalized = normalize(Y_true)\n",
    "\n",
    "# Initialize weights and biases\n",
    "np.random.seed(42)\n",
    "W11, W21, W12, W22 = 2 * np.random.rand(4) - 1\n",
    "W31, W41, W32, W42 = 2 * np.random.rand(4) - 1\n",
    "w51, w52 = 2 * np.random.rand(2) - 1\n",
    "b1, b2, b3, b4 = 2 * np.random.rand(4) - 1"
   ]
  },
  {
   "cell_type": "code",
   "execution_count": 28,
   "metadata": {},
   "outputs": [],
   "source": [
    "    A11 = sigmoid(X1_normalized * W11 + X2_normalized * W21 + b1)\n",
    "    A12 = sigmoid(X1_normalized * W12 + X2_normalized * W22 + b2)\n",
    "    A21 = sigmoid(A11 * W31 + A12 * W41 + b3)\n",
    "    A22 = sigmoid(A11 * W32 + A12 * W42 + b4)\n",
    "    Y_pred = A21 * w51 + A22 * w52"
   ]
  },
  {
   "cell_type": "code",
   "execution_count": 36,
   "metadata": {},
   "outputs": [
    {
     "data": {
      "text/plain": [
       "array([-0.95883101, -0.63357659, -0.30832216])"
      ]
     },
     "execution_count": 36,
     "metadata": {},
     "output_type": "execute_result"
    }
   ],
   "source": [
    "X1_normalized * W11 + X2_normalized * W21 + b1"
   ]
  },
  {
   "cell_type": "code",
   "execution_count": 32,
   "metadata": {},
   "outputs": [
    {
     "data": {
      "text/plain": [
       "array([0. , 0.5, 1. ])"
      ]
     },
     "execution_count": 32,
     "metadata": {},
     "output_type": "execute_result"
    }
   ],
   "source": [
    "X1_normalized"
   ]
  },
  {
   "cell_type": "code",
   "execution_count": 33,
   "metadata": {},
   "outputs": [
    {
     "data": {
      "text/plain": [
       "array([0. , 0.5, 1. ])"
      ]
     },
     "execution_count": 33,
     "metadata": {},
     "output_type": "execute_result"
    }
   ],
   "source": [
    "X2_normalized"
   ]
  },
  {
   "cell_type": "code",
   "execution_count": 34,
   "metadata": {},
   "outputs": [
    {
     "data": {
      "text/plain": [
       "-0.250919762305275"
      ]
     },
     "execution_count": 34,
     "metadata": {},
     "output_type": "execute_result"
    }
   ],
   "source": [
    "W11"
   ]
  },
  {
   "cell_type": "code",
   "execution_count": 35,
   "metadata": {},
   "outputs": [
    {
     "data": {
      "text/plain": [
       "0.9014286128198323"
      ]
     },
     "execution_count": 35,
     "metadata": {},
     "output_type": "execute_result"
    }
   ],
   "source": [
    "W21"
   ]
  }
 ],
 "metadata": {
  "kernelspec": {
   "display_name": "Python 3",
   "language": "python",
   "name": "python3"
  },
  "language_info": {
   "codemirror_mode": {
    "name": "ipython",
    "version": 3
   },
   "file_extension": ".py",
   "mimetype": "text/x-python",
   "name": "python",
   "nbconvert_exporter": "python",
   "pygments_lexer": "ipython3",
   "version": "3.10.0"
  }
 },
 "nbformat": 4,
 "nbformat_minor": 2
}
